{
 "cells": [
  {
   "cell_type": "markdown",
   "metadata": {},
   "source": [
    "# MNIST/Fashion MNIST GAN Implementation\n",
    "\n",
    "This notebook implements a Generative Adversarial Network (GAN) trained on either the MNIST digits or Fashion MNIST dataset using PyTorch. This serves as the foundation for investigating whether informative data samples exist for GAN training, similar to those found in supervised learning.\n",
    "\n",
    "## Thesis Context\n",
    "Recent research has shown that state-of-the-art machine learning models can be trained effectively using only specific subsets of training data. These \"informative samples\" enhance generalization in neural networks. While this phenomenon has been observed in supervised learning, this project aims to investigate whether similar informative samples exist when training generative models like GANs.\n",
    "\n",
    "## Notebook Overview\n",
    "1. **Setup and Imports**: Libraries and device configuration\n",
    "2. **Hyperparameters**: Configuration for the GAN training\n",
    "3. **Model Architecture**: Implementation of Generator and Discriminator networks\n",
    "4. **Data Loading**: Dataset preparation with choice between MNIST digits or Fashion MNIST\n",
    "5. **Visualization Functions**: Utilities for tracking GAN performance\n",
    "6. **Training Loop**: Implementation of the GAN training process\n",
    "7. **Execution and Results**: Running the training and analyzing outputs"
   ]
  },
  {
   "cell_type": "markdown",
   "metadata": {},
   "source": [
    "## 1. Setup and Imports\n",
    "\n",
    "First, we'll import the necessary libraries and set up the computational device (CPU or GPU)."
   ]
  },
  {
   "cell_type": "code",
   "execution_count": 1,
   "metadata": {},
   "outputs": [
    {
     "name": "stdout",
     "output_type": "stream",
     "text": [
      "Using device: cuda\n"
     ]
    }
   ],
   "source": [
    "import torch\n",
    "import torch.nn as nn\n",
    "import torch.optim as optim\n",
    "import torchvision\n",
    "import torchvision.transforms as transforms\n",
    "from torch.utils.data import DataLoader\n",
    "import matplotlib.pyplot as plt\n",
    "import numpy as np\n",
    "from torchvision.utils import make_grid\n",
    "import os\n",
    "import time\n",
    "import random\n",
    "\n",
    "# Set random seed for reproducibility\n",
    "def set_random_seed(seed):\n",
    "    torch.manual_seed(seed)\n",
    "    np.random.seed(seed)\n",
    "    random.seed(seed)\n",
    "\n",
    "device = torch.device('cuda' if torch.cuda.is_available() else 'cpu')\n",
    "print(f\"Using device: {device}\")"
   ]
  },
  {
   "cell_type": "markdown",
   "metadata": {},
   "source": [
    "## 2. Hyperparameters\n",
    "\n",
    "Here we define all the hyperparameters that control the GAN training process. These include:\n",
    "\n",
    "- Batch size: Number of images processed in each training step\n",
    "- Latent dimension: Size of the random noise vector input to the generator\n",
    "- Hidden dimensions: Size of hidden layers in the networks\n",
    "- Learning rates and optimizer parameters\n",
    "- Training duration and image sampling frequency"
   ]
  },
  {
   "cell_type": "code",
   "execution_count": 2,
   "metadata": {},
   "outputs": [],
   "source": [
    "# Hyperparameters\n",
    "batch_size = 128\n",
    "latent_dim = 128     # Size of generator input noise vector\n",
    "hidden_dim = 256     # Size of hidden layers\n",
    "image_size = 28 * 28 # MNIST image dimensions flattened\n",
    "lr = 0.0002     \n",
    "beta1 = 0.5          \n",
    "beta2 = 0.999  \n",
    "num_epochs = 100 \n",
    "sample_interval = 10 # Save images every 10 epochs"
   ]
  },
  {
   "cell_type": "markdown",
   "metadata": {},
   "source": [
    "## 3. Model Architecture\n",
    "\n",
    "### Generator Network\n",
    "\n",
    "The Generator transforms random noise vectors into synthetic images. Its architecture consists of:\n",
    "- Input: Random noise vector (latent_dim)\n",
    "- Multiple fully connected layers with LeakyReLU activations\n",
    "- Output: Image with values in range [-1, 1] through Tanh activation\n",
    "\n",
    "This implementation uses a simple MLP (Multi-Layer Perceptron) architecture rather than convolutional layers for simplicity."
   ]
  },
  {
   "cell_type": "code",
   "execution_count": 3,
   "metadata": {},
   "outputs": [],
   "source": [
    "class Generator(nn.Module):\n",
    "    def __init__(self, latent_dim, hidden_dim, output_dim):\n",
    "        super(Generator, self).__init__()\n",
    "        self.model = nn.Sequential(\n",
    "            nn.Linear(latent_dim, hidden_dim),\n",
    "            nn.LeakyReLU(0.2, inplace=True),\n",
    "            nn.Linear(hidden_dim, hidden_dim * 2),\n",
    "            nn.LeakyReLU(0.2, inplace=True),\n",
    "            nn.Linear(hidden_dim * 2, hidden_dim * 4),\n",
    "            nn.LeakyReLU(0.2, inplace=True),\n",
    "            nn.Linear(hidden_dim * 4, output_dim),\n",
    "            nn.Tanh()  # Output values between -1 and 1\n",
    "        )\n",
    "\n",
    "    def forward(self, z):\n",
    "        img = self.model(z)\n",
    "        img = img.view(img.size(0), 1, 28, 28)  # Reshape to image dimensions\n",
    "        return img"
   ]
  },
  {
   "cell_type": "markdown",
   "metadata": {},
   "source": [
    "### Discriminator Network\n",
    "\n",
    "The Discriminator evaluates whether an image is real (from the dataset) or fake (generated). Its architecture consists of:\n",
    "- Input: Flattened image (28×28 = 784 dimensions)\n",
    "- Multiple fully connected layers with LeakyReLU activations and dropout for regularization\n",
    "- Output: Single value between 0-1 through Sigmoid activation (probability of image being real)"
   ]
  },
  {
   "cell_type": "code",
   "execution_count": 4,
   "metadata": {},
   "outputs": [],
   "source": [
    "class Discriminator(nn.Module):\n",
    "    def __init__(self, input_dim, hidden_dim):\n",
    "        super(Discriminator, self).__init__()\n",
    "        self.model = nn.Sequential(\n",
    "            nn.Linear(input_dim, hidden_dim * 4),\n",
    "            nn.LeakyReLU(0.2, inplace=True),\n",
    "            nn.Dropout(0.3),\n",
    "            nn.Linear(hidden_dim * 4, hidden_dim * 2),\n",
    "            nn.LeakyReLU(0.2, inplace=True),\n",
    "            nn.Dropout(0.3),\n",
    "            nn.Linear(hidden_dim * 2, hidden_dim),\n",
    "            nn.LeakyReLU(0.2, inplace=True),\n",
    "            nn.Dropout(0.3),\n",
    "            nn.Linear(hidden_dim, 1),\n",
    "            nn.Sigmoid()  # Output between 0-1 (probability of being real)\n",
    "        )\n",
    "\n",
    "    def forward(self, img):\n",
    "        img_flat = img.view(img.size(0), -1)  # Flatten the image\n",
    "        validity = self.model(img_flat)\n",
    "        return validity"
   ]
  },
  {
   "cell_type": "markdown",
   "metadata": {},
   "source": [
    "### Initialize Models and Optimizers\n",
    "\n",
    "Here we:\n",
    "1. Initialize both networks\n",
    "2. Define the loss function (Binary Cross Entropy)\n",
    "3. Set up optimizers for both networks"
   ]
  },
  {
   "cell_type": "code",
   "execution_count": 5,
   "metadata": {},
   "outputs": [],
   "source": [
    "# Initialize models\n",
    "generator = Generator(latent_dim, hidden_dim, image_size).to(device)\n",
    "discriminator = Discriminator(image_size, hidden_dim).to(device)\n",
    "\n",
    "# Loss function\n",
    "adversarial_loss = nn.BCELoss()\n",
    "\n",
    "# Optimizers\n",
    "optimizer_G = optim.Adam(generator.parameters(), lr=lr, betas=(beta1, beta2))\n",
    "optimizer_D = optim.Adam(discriminator.parameters(), lr=lr, betas=(beta1, beta2))"
   ]
  },
  {
   "cell_type": "markdown",
   "metadata": {},
   "source": [
    "## 4. Data Loading\n",
    "\n",
    "Here we set up either the MNIST digits or Fashion MNIST dataset with appropriate transformations:\n",
    "- ToTensor: Converts PIL images to PyTorch tensors\n",
    "- Normalize: Scales pixel values from [0,1] to [-1,1] to match the Generator's Tanh output\n",
    "\n",
    "We've extended the function to support both dataset types."
   ]
  },
  {
   "cell_type": "code",
   "execution_count": 7,
   "metadata": {},
   "outputs": [],
   "source": [
    "def load_data(subset_percentage=100, dataset_type='digits'):\n",
    "    \"\"\"\n",
    "    Load either MNIST digits or Fashion MNIST dataset\n",
    "    \n",
    "    Parameters:\n",
    "    - subset_percentage: Percentage of the full dataset to use (integer from 1-100)\n",
    "    - dataset_type: Either 'digits' for original MNIST or 'fashion' for Fashion MNIST\n",
    "    \n",
    "    Returns:\n",
    "    - DataLoader and Dataset objects\n",
    "    \"\"\"\n",
    "    transform = transforms.Compose([\n",
    "        transforms.ToTensor(),\n",
    "        transforms.Normalize([0.5], [0.5])  # Normalize to [-1, 1]\n",
    "    ])\n",
    "    \n",
    "    if dataset_type.lower() == 'digits':\n",
    "        full_dataset = torchvision.datasets.MNIST(\n",
    "            root='./data',\n",
    "            train=True,\n",
    "            download=True,\n",
    "            transform=transform\n",
    "        )\n",
    "        class_names = [str(i) for i in range(10)]  # 0-9 digits\n",
    "    elif dataset_type.lower() == 'fashion':\n",
    "        full_dataset = torchvision.datasets.FashionMNIST(\n",
    "            root='./data',\n",
    "            train=True,\n",
    "            download=True,\n",
    "            transform=transform\n",
    "        )\n",
    "        class_names = ['T-shirt/top', 'Trouser', 'Pullover', 'Dress', 'Coat',\n",
    "                       'Sandal', 'Shirt', 'Sneaker', 'Bag', 'Ankle boot']\n",
    "    else:\n",
    "        raise ValueError(\"dataset_type must be either 'digits' or 'fashion'\")\n",
    "    \n",
    "    all_targets = full_dataset.targets.numpy()\n",
    "    \n",
    "    # Count instances of each class\n",
    "    class_counts = [0] * 10\n",
    "    for label in all_targets:\n",
    "        class_counts[label] += 1\n",
    "    \n",
    "    print(f\"Full {dataset_type} dataset distribution:\")\n",
    "    for class_idx, count in enumerate(class_counts):\n",
    "        class_label = class_names[class_idx] if dataset_type.lower() == 'fashion' else f\"Digit {class_idx}\"\n",
    "        print(f\"{class_label}: {count} samples\")\n",
    "    \n",
    "    if subset_percentage == 100:\n",
    "        selected_dataset = full_dataset\n",
    "    else:\n",
    "        class_indices = [[] for _ in range(10)]\n",
    "        \n",
    "        for idx, label in enumerate(all_targets):\n",
    "            class_indices[label].append(idx)\n",
    "        \n",
    "        total_subset_size = int(len(full_dataset) * subset_percentage / 100)\n",
    "        samples_per_class = total_subset_size // 10\n",
    "        \n",
    "        stratified_indices = []\n",
    "        for class_idx in range(10):\n",
    "            class_idx_list = class_indices[class_idx]\n",
    "            random_idx = torch.randperm(len(class_idx_list))\n",
    "\n",
    "            selected_idx = [class_idx_list[i] for i in random_idx[:samples_per_class]]\n",
    "            stratified_indices.extend(selected_idx)\n",
    "            \n",
    "        random.shuffle(stratified_indices)\n",
    "        selected_dataset = torch.utils.data.Subset(full_dataset, stratified_indices)\n",
    "        \n",
    "        subset_class_counts = [0] * 10\n",
    "        for idx in stratified_indices:\n",
    "            label = all_targets[idx]\n",
    "            subset_class_counts[label] += 1\n",
    "        \n",
    "        print(f\"\\nStratified subset distribution ({dataset_type}):\")\n",
    "        for class_idx, count in enumerate(subset_class_counts):\n",
    "            class_label = class_names[class_idx] if dataset_type.lower() == 'fashion' else f\"Digit {class_idx}\"\n",
    "            print(f\"{class_label}: {count} samples\")\n",
    "    \n",
    "    data_loader = DataLoader(\n",
    "        selected_dataset,\n",
    "        batch_size=batch_size,\n",
    "        shuffle=True,\n",
    "        drop_last=True  # Discard incomplete batches\n",
    "    )\n",
    "    \n",
    "    print(f\"\\nFull dataset size: {len(full_dataset)} images\")\n",
    "    print(f\"Selected subset size: {len(selected_dataset)} images\")\n",
    "    print(f\"Number of batches: {len(data_loader)}\")\n",
    "    \n",
    "    return data_loader, selected_dataset"
   ]
  },
  {
   "cell_type": "markdown",
   "metadata": {},
   "source": [
    "## 5. Visualization Functions\n",
    "\n",
    "These utility functions help monitor the GAN's progress:\n",
    "\n",
    "1. `save_generated_images`: Creates and saves a grid of generated images\n",
    "2. `plot_losses`: Visualizes generator and discriminator losses over time\n",
    "\n",
    "Both functions have been updated to include the dataset type."
   ]
  },
  {
   "cell_type": "code",
   "execution_count": 8,
   "metadata": {},
   "outputs": [],
   "source": [
    "def save_generated_images(epoch, generator, latent_dim, device, subset_percentage,\n",
    "                        dataset_type, fixed_noise=None, base_path=\"../generated_images\"):\n",
    "    \n",
    "    subfolder = f\"{dataset_type}_subset_{subset_percentage}_percent\"\n",
    "    save_path = os.path.join(base_path, subfolder)\n",
    "    os.makedirs(save_path, exist_ok=True)\n",
    "    \n",
    "    # Create a batch of latent vectors or use fixed noise for comparison\n",
    "    if fixed_noise is None:\n",
    "        z = torch.randn(25, latent_dim).to(device)\n",
    "    else:\n",
    "        z = fixed_noise\n",
    "    \n",
    "    # Generate images\n",
    "    with torch.no_grad():\n",
    "        gen_imgs = generator(z).detach().cpu()\n",
    "    \n",
    "    # Rescale images from [-1, 1] to [0, 1]\n",
    "    gen_imgs = 0.5 * gen_imgs + 0.5\n",
    "\n",
    "    grid = make_grid(gen_imgs, nrow=5, normalize=True)\n",
    "    \n",
    "    filename = f\"epoch_{epoch:03d}.png\"\n",
    "    filepath = os.path.join(save_path, filename)\n",
    "    \n",
    "    plt.figure(figsize=(8, 8))\n",
    "    plt.imshow(grid.permute(1, 2, 0), cmap='gray')\n",
    "    plt.axis('off')\n",
    "    plt.title(f\"Generated {dataset_type.capitalize()} Images - {subset_percentage}% Data - Epoch {epoch}\")\n",
    "\n",
    "    plt.savefig(filepath)\n",
    "    plt.show()\n",
    "    \n",
    "    return grid"
   ]
  },
  {
   "cell_type": "code",
   "execution_count": 9,
   "metadata": {},
   "outputs": [],
   "source": [
    "def plot_losses(g_losses, d_losses, subset_percentage, dataset_type, save_path=\"../loss_plots\"):\n",
    "    # Create folder structure\n",
    "    os.makedirs(save_path, exist_ok=True)\n",
    "    \n",
    "    plt.figure(figsize=(10, 5))\n",
    "    plt.plot(g_losses, label='Generator Loss')\n",
    "    plt.plot(d_losses, label='Discriminator Loss')\n",
    "    plt.xlabel('Epochs')\n",
    "    plt.ylabel('Loss')\n",
    "    plt.legend()\n",
    "    plt.grid(True)\n",
    "    plt.title(f'{dataset_type.capitalize()} GAN Training Losses - {subset_percentage}% Data')\n",
    "    \n",
    "    plt.savefig(f\"{save_path}/{dataset_type}_losses_subset_{subset_percentage}_percent.png\")\n",
    "    plt.show()"
   ]
  },
  {
   "cell_type": "markdown",
   "metadata": {},
   "source": [
    "## 6. Training Loop\n",
    "\n",
    "The GAN training function implements the adversarial training process with these key steps:\n",
    "\n",
    "1. **Initialization**:\n",
    "   - Create fixed noise vector for consistent image generation across epochs\n",
    "   - Initialize lists to track losses\n",
    "\n",
    "2. **For each epoch and batch**:\n",
    "   - **Train Discriminator**:\n",
    "     - Forward pass with real images → calculate loss on real images\n",
    "     - Generate fake images → calculate loss on fake images\n",
    "     - Update discriminator weights\n",
    "   - **Train Generator**:\n",
    "     - Generate fake images\n",
    "     - Calculate loss based on discriminator's prediction\n",
    "     - Update generator weights\n",
    "\n",
    "3. **Monitoring**:\n",
    "   - Save losses for plotting\n",
    "   - Generate and save images at regular intervals\n",
    "   - Track and display progress information\n",
    "\n",
    "The function has been updated to support the dataset type parameter."
   ]
  },
  {
   "cell_type": "code",
   "execution_count": 10,
   "metadata": {},
   "outputs": [],
   "source": [
    "def train_gan(subset_percentage=100, dataset_type='digits'):\n",
    "    # Generate fixed noise for consistent image generation\n",
    "    fixed_noise = torch.randn(25, latent_dim).to(device)\n",
    "    \n",
    "    # Load the selected dataset\n",
    "    global train_loader, train_dataset\n",
    "    train_loader, train_dataset = load_data(subset_percentage, dataset_type)\n",
    "    \n",
    "    # lists to store losses\n",
    "    g_losses = []\n",
    "    d_losses = []\n",
    "    start_time = time.time()\n",
    "    \n",
    "    print(f\"Starting Training on {dataset_type.capitalize()} Dataset...\")\n",
    "    for epoch in range(num_epochs):\n",
    "        g_loss_epoch = 0\n",
    "        d_loss_epoch = 0\n",
    "        batch_count = 0\n",
    "        \n",
    "        for i, (real_imgs, _) in enumerate(train_loader):\n",
    "            batch_count += 1\n",
    "            \n",
    "            # Configure input\n",
    "            real_imgs = real_imgs.to(device)\n",
    "            batch_size = real_imgs.size(0)\n",
    "            \n",
    "            # Create labels with a small amount of label smoothing\n",
    "            valid = torch.ones(batch_size, 1).to(device) * 0.9\n",
    "            fake = torch.zeros(batch_size, 1).to(device) + 0.1\n",
    "            \n",
    "            # ---------------------\n",
    "            # Train Discriminator\n",
    "            # ---------------------\n",
    "            optimizer_D.zero_grad()\n",
    "            \n",
    "            # Loss on real images\n",
    "            real_pred = discriminator(real_imgs)\n",
    "            d_real_loss = adversarial_loss(real_pred, valid)\n",
    "            \n",
    "            # Sample noise and generate fake images\n",
    "            z = torch.randn(batch_size, latent_dim).to(device)\n",
    "            fake_imgs = generator(z)\n",
    "            \n",
    "            # Loss on fake images\n",
    "            fake_pred = discriminator(fake_imgs.detach())\n",
    "            d_fake_loss = adversarial_loss(fake_pred, fake)\n",
    "            \n",
    "            # Total discriminator loss\n",
    "            d_loss = d_real_loss + d_fake_loss\n",
    "            d_loss.backward()\n",
    "            optimizer_D.step()\n",
    "            \n",
    "            # ---------------------\n",
    "            # Train Generator\n",
    "            # ---------------------\n",
    "            optimizer_G.zero_grad()\n",
    "            \n",
    "            # Generate fake images\n",
    "            z = torch.randn(batch_size, latent_dim).to(device)\n",
    "            fake_imgs = generator(z)\n",
    "            \n",
    "            # Try to fool the discriminator\n",
    "            validity = discriminator(fake_imgs)\n",
    "            g_loss = adversarial_loss(validity, valid)\n",
    "            \n",
    "            g_loss.backward()\n",
    "            optimizer_G.step()\n",
    "            \n",
    "            # Save losses for plotting\n",
    "            g_loss_epoch += g_loss.item()\n",
    "            d_loss_epoch += d_loss.item()\n",
    "            \n",
    "            if i % 100 == 0:\n",
    "                print(f\"[Epoch {epoch}/{num_epochs}] [Batch {i}/{len(train_loader)}] \"\n",
    "                      f\"[D loss: {d_loss.item():.4f}] [G loss: {g_loss.item():.4f}] \"\n",
    "                      f\"[Time: {time.time() - start_time:.2f}s]\")\n",
    "        \n",
    "        # Calculate and store average losses for this epoch\n",
    "        g_losses.append(g_loss_epoch / batch_count)\n",
    "        d_losses.append(d_loss_epoch / batch_count)\n",
    "        \n",
    "        # Print epoch summary\n",
    "        print(f\"[Epoch {epoch}/{num_epochs}] \"\n",
    "              f\"[Avg D loss: {d_losses[-1]:.4f}] [Avg G loss: {g_losses[-1]:.4f}]\")\n",
    "\n",
    "        \n",
    "        # Save generated images at specified intervals\n",
    "        if epoch % sample_interval == 0 or epoch == num_epochs - 1:\n",
    "            _ = save_generated_images(epoch, generator, latent_dim, device, \n",
    "                                     subset_percentage, dataset_type, fixed_noise)\n",
    "            \n",
    "        # Plot losses at each epoch\n",
    "        if epoch % 10 == 0:\n",
    "            plot_losses(g_losses, d_losses, subset_percentage, dataset_type)\n",
    "    \n",
    "    plot_losses(g_losses, d_losses, subset_percentage, dataset_type)\n",
    "    \n",
    "    print(\"Training finished!\")\n",
    "    print(f\"Total training time: {(time.time() - start_time)/60:.2f} minutes\")\n",
    "    \n",
    "    # Update the model saving to include dataset type and subset percentage\n",
    "    model_path = f\"../models/{dataset_type}_subset_{subset_percentage}_percent\"\n",
    "    os.makedirs(model_path, exist_ok=True)\n",
    "    torch.save(generator.state_dict(), f'{model_path}/generator.pth')\n",
    "    torch.save(discriminator.state_dict(), f'{model_path}/discriminator.pth')\n",
    "    \n",
    "    print(\"Models saved!\")\n",
    "    \n",
    "    return g_losses, d_losses"
   ]
  },
  {
   "cell_type": "markdown",
   "metadata": {},
   "source": [
    "## 7. Execution and Results\n",
    "\n",
    "Now we'll run the training function and analyze the results. We've added a function to generate and display samples after training."
   ]
  },
  {
   "cell_type": "code",
   "execution_count": 11,
   "metadata": {},
   "outputs": [],
   "source": [
    "def generate_samples(dataset_type):\n",
    "    \"\"\"Generate and display random samples from the trained generator\"\"\"\n",
    "    with torch.no_grad():\n",
    "        # Generate random noise\n",
    "        z = torch.randn(16, latent_dim).to(device)\n",
    "        # Generate images\n",
    "        samples = generator(z).detach().cpu()\n",
    "        # Rescale images\n",
    "        samples = 0.5 * samples + 0.5\n",
    "        # Display images\n",
    "        grid = make_grid(samples, nrow=4, normalize=True)\n",
    "        plt.figure(figsize=(10, 10))\n",
    "        plt.imshow(grid.permute(1, 2, 0), cmap='gray')\n",
    "        plt.axis('off')\n",
    "        plt.title(f\"Random {dataset_type.capitalize()} Samples from Trained Generator\")\n",
    "        plt.show()"
   ]
  },
  {
   "cell_type": "code",
   "execution_count": 12,
   "metadata": {},
   "outputs": [
    {
     "name": "stdout",
     "output_type": "stream",
     "text": [
      "Downloading http://yann.lecun.com/exdb/mnist/train-images-idx3-ubyte.gz\n",
      "Failed to download (trying next):\n",
      "HTTP Error 404: Not Found\n",
      "\n",
      "Downloading https://ossci-datasets.s3.amazonaws.com/mnist/train-images-idx3-ubyte.gz\n",
      "Downloading https://ossci-datasets.s3.amazonaws.com/mnist/train-images-idx3-ubyte.gz to ./data\\MNIST\\raw\\train-images-idx3-ubyte.gz\n"
     ]
    },
    {
     "name": "stderr",
     "output_type": "stream",
     "text": [
      "100%|██████████| 9.91M/9.91M [00:02<00:00, 3.73MB/s]\n"
     ]
    },
    {
     "name": "stdout",
     "output_type": "stream",
     "text": [
      "Extracting ./data\\MNIST\\raw\\train-images-idx3-ubyte.gz to ./data\\MNIST\\raw\n",
      "\n",
      "Downloading http://yann.lecun.com/exdb/mnist/train-labels-idx1-ubyte.gz\n",
      "Failed to download (trying next):\n",
      "HTTP Error 404: Not Found\n",
      "\n",
      "Downloading https://ossci-datasets.s3.amazonaws.com/mnist/train-labels-idx1-ubyte.gz\n",
      "Downloading https://ossci-datasets.s3.amazonaws.com/mnist/train-labels-idx1-ubyte.gz to ./data\\MNIST\\raw\\train-labels-idx1-ubyte.gz\n"
     ]
    },
    {
     "name": "stderr",
     "output_type": "stream",
     "text": [
      "100%|██████████| 28.9k/28.9k [00:00<00:00, 273kB/s]\n"
     ]
    },
    {
     "name": "stdout",
     "output_type": "stream",
     "text": [
      "Extracting ./data\\MNIST\\raw\\train-labels-idx1-ubyte.gz to ./data\\MNIST\\raw\n",
      "\n",
      "Downloading http://yann.lecun.com/exdb/mnist/t10k-images-idx3-ubyte.gz\n",
      "Failed to download (trying next):\n",
      "HTTP Error 404: Not Found\n",
      "\n",
      "Downloading https://ossci-datasets.s3.amazonaws.com/mnist/t10k-images-idx3-ubyte.gz\n",
      "Downloading https://ossci-datasets.s3.amazonaws.com/mnist/t10k-images-idx3-ubyte.gz to ./data\\MNIST\\raw\\t10k-images-idx3-ubyte.gz\n"
     ]
    },
    {
     "name": "stderr",
     "output_type": "stream",
     "text": [
      "100%|██████████| 1.65M/1.65M [00:00<00:00, 2.05MB/s]\n"
     ]
    },
    {
     "name": "stdout",
     "output_type": "stream",
     "text": [
      "Extracting ./data\\MNIST\\raw\\t10k-images-idx3-ubyte.gz to ./data\\MNIST\\raw\n",
      "\n",
      "Downloading http://yann.lecun.com/exdb/mnist/t10k-labels-idx1-ubyte.gz\n",
      "Failed to download (trying next):\n",
      "HTTP Error 404: Not Found\n",
      "\n",
      "Downloading https://ossci-datasets.s3.amazonaws.com/mnist/t10k-labels-idx1-ubyte.gz\n",
      "Downloading https://ossci-datasets.s3.amazonaws.com/mnist/t10k-labels-idx1-ubyte.gz to ./data\\MNIST\\raw\\t10k-labels-idx1-ubyte.gz\n"
     ]
    },
    {
     "name": "stderr",
     "output_type": "stream",
     "text": [
      "100%|██████████| 4.54k/4.54k [00:00<00:00, 4.54MB/s]\n"
     ]
    },
    {
     "name": "stdout",
     "output_type": "stream",
     "text": [
      "Extracting ./data\\MNIST\\raw\\t10k-labels-idx1-ubyte.gz to ./data\\MNIST\\raw\n",
      "\n",
      "Full digits dataset distribution:\n",
      "Digit 0: 5923 samples\n",
      "Digit 1: 6742 samples\n",
      "Digit 2: 5958 samples\n",
      "Digit 3: 6131 samples\n",
      "Digit 4: 5842 samples\n",
      "Digit 5: 5421 samples\n",
      "Digit 6: 5918 samples\n",
      "Digit 7: 6265 samples\n",
      "Digit 8: 5851 samples\n",
      "Digit 9: 5949 samples\n",
      "\n",
      "Full dataset size: 60000 images\n",
      "Selected subset size: 60000 images\n",
      "Number of batches: 468\n",
      "Starting Training on Digits Dataset...\n",
      "[Epoch 0/100] [Batch 0/468] [D loss: 1.4054] [G loss: 0.6831] [Time: 0.58s]\n",
      "[Epoch 0/100] [Batch 100/468] [D loss: 1.1747] [G loss: 0.9722] [Time: 3.71s]\n",
      "[Epoch 0/100] [Batch 200/468] [D loss: 0.8518] [G loss: 2.3379] [Time: 6.78s]\n",
      "[Epoch 0/100] [Batch 300/468] [D loss: 0.8325] [G loss: 1.9456] [Time: 9.94s]\n",
      "[Epoch 0/100] [Batch 400/468] [D loss: 0.8524] [G loss: 2.7369] [Time: 13.30s]\n",
      "[Epoch 0/100] [Avg D loss: 1.0244] [Avg G loss: 1.5617]\n"
     ]
    },
    {
     "data": {
      "image/png": "[encoded data removed]",
      "text/plain": [
       "<Figure size 800x800 with 1 Axes>"
      ]
     },
     "metadata": {},
     "output_type": "display_data"
    },
    {
     "data": {
      "image/png": "[encoded data removed]",
      "text/plain": [
       "<Figure size 1000x500 with 1 Axes>"
      ]
     },
     "metadata": {},
     "output_type": "display_data"
    },
    {
     "name": "stdout",
     "output_type": "stream",
     "text": [
      "[Epoch 1/100] [Batch 0/468] [D loss: 0.8295] [G loss: 1.5814] [Time: 16.02s]\n",
      "[Epoch 1/100] [Batch 100/468] [D loss: 0.9212] [G loss: 1.9372] [Time: 19.42s]\n",
      "[Epoch 1/100] [Batch 200/468] [D loss: 0.8128] [G loss: 1.2210] [Time: 22.62s]\n",
      "[Epoch 1/100] [Batch 300/468] [D loss: 0.8407] [G loss: 1.5232] [Time: 25.91s]\n",
      "[Epoch 1/100] [Batch 400/468] [D loss: 0.8748] [G loss: 2.9254] [Time: 29.11s]\n",
      "[Epoch 1/100] [Avg D loss: 0.8663] [Avg G loss: 2.1997]\n",
      "[Epoch 2/100] [Batch 0/468] [D loss: 0.8994] [G loss: 1.8112] [Time: 31.33s]\n",
      "[Epoch 2/100] [Batch 100/468] [D loss: 0.7746] [G loss: 1.7175] [Time: 34.84s]\n",
      "[Epoch 2/100] [Batch 200/468] [D loss: 0.7797] [G loss: 2.1618] [Time: 38.35s]\n",
      "[Epoch 2/100] [Batch 300/468] [D loss: 0.7293] [G loss: 1.4714] [Time: 41.38s]\n",
      "[Epoch 2/100] [Batch 400/468] [D loss: 0.7602] [G loss: 2.5790] [Time: 44.49s]\n",
      "[Epoch 2/100] [Avg D loss: 0.8095] [Avg G loss: 2.0869]\n",
      "[Epoch 3/100] [Batch 0/468] [D loss: 0.7508] [G loss: 2.1477] [Time: 46.65s]\n",
      "[Epoch 3/100] [Batch 100/468] [D loss: 0.7258] [G loss: 1.8063] [Time: 49.88s]\n",
      "[Epoch 3/100] [Batch 200/468] [D loss: 0.7150] [G loss: 1.9033] [Time: 53.37s]\n",
      "[Epoch 3/100] [Batch 300/468] [D loss: 0.7049] [G loss: 2.2623] [Time: 56.73s]\n",
      "[Epoch 3/100] [Batch 400/468] [D loss: 0.7634] [G loss: 1.3711] [Time: 60.07s]\n"
     ]
    },
    {
     "ename": "KeyboardInterrupt",
     "evalue": "",
     "output_type": "error",
     "traceback": [
      "\u001b[1;31m---------------------------------------------------------------------------\u001b[0m",
      "\u001b[1;31mKeyboardInterrupt\u001b[0m                         Traceback (most recent call last)",
      "Cell \u001b[1;32mIn[12], line 8\u001b[0m\n\u001b[0;32m      5\u001b[0m subset_percentage \u001b[38;5;241m=\u001b[39m \u001b[38;5;241m100\u001b[39m\n\u001b[0;32m      7\u001b[0m \u001b[38;5;66;03m# Train the GAN\u001b[39;00m\n\u001b[1;32m----> 8\u001b[0m g_losses, d_losses \u001b[38;5;241m=\u001b[39m \u001b[43mtrain_gan\u001b[49m\u001b[43m(\u001b[49m\u001b[43msubset_percentage\u001b[49m\u001b[43m,\u001b[49m\u001b[43m \u001b[49m\u001b[43mdataset_type\u001b[49m\u001b[43m)\u001b[49m\n",
      "Cell \u001b[1;32mIn[10], line 60\u001b[0m, in \u001b[0;36mtrain_gan\u001b[1;34m(subset_percentage, dataset_type)\u001b[0m\n\u001b[0;32m     58\u001b[0m \u001b[38;5;66;03m# Generate fake images\u001b[39;00m\n\u001b[0;32m     59\u001b[0m z \u001b[38;5;241m=\u001b[39m torch\u001b[38;5;241m.\u001b[39mrandn(batch_size, latent_dim)\u001b[38;5;241m.\u001b[39mto(device)\n\u001b[1;32m---> 60\u001b[0m fake_imgs \u001b[38;5;241m=\u001b[39m \u001b[43mgenerator\u001b[49m\u001b[43m(\u001b[49m\u001b[43mz\u001b[49m\u001b[43m)\u001b[49m\n\u001b[0;32m     62\u001b[0m \u001b[38;5;66;03m# Try to fool the discriminator\u001b[39;00m\n\u001b[0;32m     63\u001b[0m validity \u001b[38;5;241m=\u001b[39m discriminator(fake_imgs)\n",
      "File \u001b[1;32mc:\\Users\\Christian\\uni\\GANs-Data-Diet\\.venv\\lib\\site-packages\\torch\\nn\\modules\\module.py:1736\u001b[0m, in \u001b[0;36mModule._wrapped_call_impl\u001b[1;34m(self, *args, **kwargs)\u001b[0m\n\u001b[0;32m   1734\u001b[0m     \u001b[38;5;28;01mreturn\u001b[39;00m \u001b[38;5;28mself\u001b[39m\u001b[38;5;241m.\u001b[39m_compiled_call_impl(\u001b[38;5;241m*\u001b[39margs, \u001b[38;5;241m*\u001b[39m\u001b[38;5;241m*\u001b[39mkwargs)  \u001b[38;5;66;03m# type: ignore[misc]\u001b[39;00m\n\u001b[0;32m   1735\u001b[0m \u001b[38;5;28;01melse\u001b[39;00m:\n\u001b[1;32m-> 1736\u001b[0m     \u001b[38;5;28;01mreturn\u001b[39;00m \u001b[38;5;28mself\u001b[39m\u001b[38;5;241m.\u001b[39m_call_impl(\u001b[38;5;241m*\u001b[39margs, \u001b[38;5;241m*\u001b[39m\u001b[38;5;241m*\u001b[39mkwargs)\n",
      "File \u001b[1;32mc:\\Users\\Christian\\uni\\GANs-Data-Diet\\.venv\\lib\\site-packages\\torch\\nn\\modules\\module.py:1747\u001b[0m, in \u001b[0;36mModule._call_impl\u001b[1;34m(self, *args, **kwargs)\u001b[0m\n\u001b[0;32m   1742\u001b[0m \u001b[38;5;66;03m# If we don't have any hooks, we want to skip the rest of the logic in\u001b[39;00m\n\u001b[0;32m   1743\u001b[0m \u001b[38;5;66;03m# this function, and just call forward.\u001b[39;00m\n\u001b[0;32m   1744\u001b[0m \u001b[38;5;28;01mif\u001b[39;00m \u001b[38;5;129;01mnot\u001b[39;00m (\u001b[38;5;28mself\u001b[39m\u001b[38;5;241m.\u001b[39m_backward_hooks \u001b[38;5;129;01mor\u001b[39;00m \u001b[38;5;28mself\u001b[39m\u001b[38;5;241m.\u001b[39m_backward_pre_hooks \u001b[38;5;129;01mor\u001b[39;00m \u001b[38;5;28mself\u001b[39m\u001b[38;5;241m.\u001b[39m_forward_hooks \u001b[38;5;129;01mor\u001b[39;00m \u001b[38;5;28mself\u001b[39m\u001b[38;5;241m.\u001b[39m_forward_pre_hooks\n\u001b[0;32m   1745\u001b[0m         \u001b[38;5;129;01mor\u001b[39;00m _global_backward_pre_hooks \u001b[38;5;129;01mor\u001b[39;00m _global_backward_hooks\n\u001b[0;32m   1746\u001b[0m         \u001b[38;5;129;01mor\u001b[39;00m _global_forward_hooks \u001b[38;5;129;01mor\u001b[39;00m _global_forward_pre_hooks):\n\u001b[1;32m-> 1747\u001b[0m     \u001b[38;5;28;01mreturn\u001b[39;00m forward_call(\u001b[38;5;241m*\u001b[39margs, \u001b[38;5;241m*\u001b[39m\u001b[38;5;241m*\u001b[39mkwargs)\n\u001b[0;32m   1749\u001b[0m result \u001b[38;5;241m=\u001b[39m \u001b[38;5;28;01mNone\u001b[39;00m\n\u001b[0;32m   1750\u001b[0m called_always_called_hooks \u001b[38;5;241m=\u001b[39m \u001b[38;5;28mset\u001b[39m()\n",
      "Cell \u001b[1;32mIn[3], line 16\u001b[0m, in \u001b[0;36mGenerator.forward\u001b[1;34m(self, z)\u001b[0m\n\u001b[0;32m     15\u001b[0m \u001b[38;5;28;01mdef\u001b[39;00m\u001b[38;5;250m \u001b[39m\u001b[38;5;21mforward\u001b[39m(\u001b[38;5;28mself\u001b[39m, z):\n\u001b[1;32m---> 16\u001b[0m     img \u001b[38;5;241m=\u001b[39m \u001b[38;5;28;43mself\u001b[39;49m\u001b[38;5;241;43m.\u001b[39;49m\u001b[43mmodel\u001b[49m\u001b[43m(\u001b[49m\u001b[43mz\u001b[49m\u001b[43m)\u001b[49m\n\u001b[0;32m     17\u001b[0m     img \u001b[38;5;241m=\u001b[39m img\u001b[38;5;241m.\u001b[39mview(img\u001b[38;5;241m.\u001b[39msize(\u001b[38;5;241m0\u001b[39m), \u001b[38;5;241m1\u001b[39m, \u001b[38;5;241m28\u001b[39m, \u001b[38;5;241m28\u001b[39m)  \u001b[38;5;66;03m# Reshape to image dimensions\u001b[39;00m\n\u001b[0;32m     18\u001b[0m     \u001b[38;5;28;01mreturn\u001b[39;00m img\n",
      "File \u001b[1;32mc:\\Users\\Christian\\uni\\GANs-Data-Diet\\.venv\\lib\\site-packages\\torch\\nn\\modules\\module.py:1736\u001b[0m, in \u001b[0;36mModule._wrapped_call_impl\u001b[1;34m(self, *args, **kwargs)\u001b[0m\n\u001b[0;32m   1734\u001b[0m     \u001b[38;5;28;01mreturn\u001b[39;00m \u001b[38;5;28mself\u001b[39m\u001b[38;5;241m.\u001b[39m_compiled_call_impl(\u001b[38;5;241m*\u001b[39margs, \u001b[38;5;241m*\u001b[39m\u001b[38;5;241m*\u001b[39mkwargs)  \u001b[38;5;66;03m# type: ignore[misc]\u001b[39;00m\n\u001b[0;32m   1735\u001b[0m \u001b[38;5;28;01melse\u001b[39;00m:\n\u001b[1;32m-> 1736\u001b[0m     \u001b[38;5;28;01mreturn\u001b[39;00m \u001b[38;5;28mself\u001b[39m\u001b[38;5;241m.\u001b[39m_call_impl(\u001b[38;5;241m*\u001b[39margs, \u001b[38;5;241m*\u001b[39m\u001b[38;5;241m*\u001b[39mkwargs)\n",
      "File \u001b[1;32mc:\\Users\\Christian\\uni\\GANs-Data-Diet\\.venv\\lib\\site-packages\\torch\\nn\\modules\\module.py:1747\u001b[0m, in \u001b[0;36mModule._call_impl\u001b[1;34m(self, *args, **kwargs)\u001b[0m\n\u001b[0;32m   1742\u001b[0m \u001b[38;5;66;03m# If we don't have any hooks, we want to skip the rest of the logic in\u001b[39;00m\n\u001b[0;32m   1743\u001b[0m \u001b[38;5;66;03m# this function, and just call forward.\u001b[39;00m\n\u001b[0;32m   1744\u001b[0m \u001b[38;5;28;01mif\u001b[39;00m \u001b[38;5;129;01mnot\u001b[39;00m (\u001b[38;5;28mself\u001b[39m\u001b[38;5;241m.\u001b[39m_backward_hooks \u001b[38;5;129;01mor\u001b[39;00m \u001b[38;5;28mself\u001b[39m\u001b[38;5;241m.\u001b[39m_backward_pre_hooks \u001b[38;5;129;01mor\u001b[39;00m \u001b[38;5;28mself\u001b[39m\u001b[38;5;241m.\u001b[39m_forward_hooks \u001b[38;5;129;01mor\u001b[39;00m \u001b[38;5;28mself\u001b[39m\u001b[38;5;241m.\u001b[39m_forward_pre_hooks\n\u001b[0;32m   1745\u001b[0m         \u001b[38;5;129;01mor\u001b[39;00m _global_backward_pre_hooks \u001b[38;5;129;01mor\u001b[39;00m _global_backward_hooks\n\u001b[0;32m   1746\u001b[0m         \u001b[38;5;129;01mor\u001b[39;00m _global_forward_hooks \u001b[38;5;129;01mor\u001b[39;00m _global_forward_pre_hooks):\n\u001b[1;32m-> 1747\u001b[0m     \u001b[38;5;28;01mreturn\u001b[39;00m forward_call(\u001b[38;5;241m*\u001b[39margs, \u001b[38;5;241m*\u001b[39m\u001b[38;5;241m*\u001b[39mkwargs)\n\u001b[0;32m   1749\u001b[0m result \u001b[38;5;241m=\u001b[39m \u001b[38;5;28;01mNone\u001b[39;00m\n\u001b[0;32m   1750\u001b[0m called_always_called_hooks \u001b[38;5;241m=\u001b[39m \u001b[38;5;28mset\u001b[39m()\n",
      "File \u001b[1;32mc:\\Users\\Christian\\uni\\GANs-Data-Diet\\.venv\\lib\\site-packages\\torch\\nn\\modules\\container.py:250\u001b[0m, in \u001b[0;36mSequential.forward\u001b[1;34m(self, input)\u001b[0m\n\u001b[0;32m    248\u001b[0m \u001b[38;5;28;01mdef\u001b[39;00m\u001b[38;5;250m \u001b[39m\u001b[38;5;21mforward\u001b[39m(\u001b[38;5;28mself\u001b[39m, \u001b[38;5;28minput\u001b[39m):\n\u001b[0;32m    249\u001b[0m     \u001b[38;5;28;01mfor\u001b[39;00m module \u001b[38;5;129;01min\u001b[39;00m \u001b[38;5;28mself\u001b[39m:\n\u001b[1;32m--> 250\u001b[0m         \u001b[38;5;28minput\u001b[39m \u001b[38;5;241m=\u001b[39m \u001b[43mmodule\u001b[49m\u001b[43m(\u001b[49m\u001b[38;5;28;43minput\u001b[39;49m\u001b[43m)\u001b[49m\n\u001b[0;32m    251\u001b[0m     \u001b[38;5;28;01mreturn\u001b[39;00m \u001b[38;5;28minput\u001b[39m\n",
      "File \u001b[1;32mc:\\Users\\Christian\\uni\\GANs-Data-Diet\\.venv\\lib\\site-packages\\torch\\nn\\modules\\module.py:1736\u001b[0m, in \u001b[0;36mModule._wrapped_call_impl\u001b[1;34m(self, *args, **kwargs)\u001b[0m\n\u001b[0;32m   1734\u001b[0m     \u001b[38;5;28;01mreturn\u001b[39;00m \u001b[38;5;28mself\u001b[39m\u001b[38;5;241m.\u001b[39m_compiled_call_impl(\u001b[38;5;241m*\u001b[39margs, \u001b[38;5;241m*\u001b[39m\u001b[38;5;241m*\u001b[39mkwargs)  \u001b[38;5;66;03m# type: ignore[misc]\u001b[39;00m\n\u001b[0;32m   1735\u001b[0m \u001b[38;5;28;01melse\u001b[39;00m:\n\u001b[1;32m-> 1736\u001b[0m     \u001b[38;5;28;01mreturn\u001b[39;00m \u001b[38;5;28mself\u001b[39m\u001b[38;5;241m.\u001b[39m_call_impl(\u001b[38;5;241m*\u001b[39margs, \u001b[38;5;241m*\u001b[39m\u001b[38;5;241m*\u001b[39mkwargs)\n",
      "File \u001b[1;32mc:\\Users\\Christian\\uni\\GANs-Data-Diet\\.venv\\lib\\site-packages\\torch\\nn\\modules\\module.py:1747\u001b[0m, in \u001b[0;36mModule._call_impl\u001b[1;34m(self, *args, **kwargs)\u001b[0m\n\u001b[0;32m   1742\u001b[0m \u001b[38;5;66;03m# If we don't have any hooks, we want to skip the rest of the logic in\u001b[39;00m\n\u001b[0;32m   1743\u001b[0m \u001b[38;5;66;03m# this function, and just call forward.\u001b[39;00m\n\u001b[0;32m   1744\u001b[0m \u001b[38;5;28;01mif\u001b[39;00m \u001b[38;5;129;01mnot\u001b[39;00m (\u001b[38;5;28mself\u001b[39m\u001b[38;5;241m.\u001b[39m_backward_hooks \u001b[38;5;129;01mor\u001b[39;00m \u001b[38;5;28mself\u001b[39m\u001b[38;5;241m.\u001b[39m_backward_pre_hooks \u001b[38;5;129;01mor\u001b[39;00m \u001b[38;5;28mself\u001b[39m\u001b[38;5;241m.\u001b[39m_forward_hooks \u001b[38;5;129;01mor\u001b[39;00m \u001b[38;5;28mself\u001b[39m\u001b[38;5;241m.\u001b[39m_forward_pre_hooks\n\u001b[0;32m   1745\u001b[0m         \u001b[38;5;129;01mor\u001b[39;00m _global_backward_pre_hooks \u001b[38;5;129;01mor\u001b[39;00m _global_backward_hooks\n\u001b[0;32m   1746\u001b[0m         \u001b[38;5;129;01mor\u001b[39;00m _global_forward_hooks \u001b[38;5;129;01mor\u001b[39;00m _global_forward_pre_hooks):\n\u001b[1;32m-> 1747\u001b[0m     \u001b[38;5;28;01mreturn\u001b[39;00m forward_call(\u001b[38;5;241m*\u001b[39margs, \u001b[38;5;241m*\u001b[39m\u001b[38;5;241m*\u001b[39mkwargs)\n\u001b[0;32m   1749\u001b[0m result \u001b[38;5;241m=\u001b[39m \u001b[38;5;28;01mNone\u001b[39;00m\n\u001b[0;32m   1750\u001b[0m called_always_called_hooks \u001b[38;5;241m=\u001b[39m \u001b[38;5;28mset\u001b[39m()\n",
      "File \u001b[1;32mc:\\Users\\Christian\\uni\\GANs-Data-Diet\\.venv\\lib\\site-packages\\torch\\nn\\modules\\activation.py:392\u001b[0m, in \u001b[0;36mTanh.forward\u001b[1;34m(self, input)\u001b[0m\n\u001b[0;32m    391\u001b[0m \u001b[38;5;28;01mdef\u001b[39;00m\u001b[38;5;250m \u001b[39m\u001b[38;5;21mforward\u001b[39m(\u001b[38;5;28mself\u001b[39m, \u001b[38;5;28minput\u001b[39m: Tensor) \u001b[38;5;241m-\u001b[39m\u001b[38;5;241m>\u001b[39m Tensor:\n\u001b[1;32m--> 392\u001b[0m     \u001b[38;5;28;01mreturn\u001b[39;00m \u001b[43mtorch\u001b[49m\u001b[38;5;241;43m.\u001b[39;49m\u001b[43mtanh\u001b[49m\u001b[43m(\u001b[49m\u001b[38;5;28;43minput\u001b[39;49m\u001b[43m)\u001b[49m\n",
      "\u001b[1;31mKeyboardInterrupt\u001b[0m: "
     ]
    }
   ],
   "source": [
    "set_random_seed(42)\n",
    "\n",
    "# Parameters for the trainng run\n",
    "dataset_type = 'digits'  # Change to 'fashion' for Fashion MNIST\n",
    "subset_percentage = 100\n",
    "\n",
    "# Train the GAN\n",
    "g_losses, d_losses = train_gan(subset_percentage, dataset_type)"
   ]
  },
  {
   "cell_type": "markdown",
   "metadata": {},
   "source": [
    "### Results Analysis\n",
    "\n",
    "Let's examine our final loss plot and generate some images with the trained model."
   ]
  },
  {
   "cell_type": "code",
   "execution_count": null,
   "metadata": {},
   "outputs": [],
   "source": [
    "# Plot the losses\n",
    "plot_losses(g_losses, d_losses, subset_percentage, dataset_type)"
   ]
  },
  {
   "cell_type": "code",
   "execution_count": null,
   "metadata": {},
   "outputs": [],
   "source": [
    "# Generate random samples after training\n",
    "generate_samples(dataset_type)"
   ]
  },
  {
   "cell_type": "markdown",
   "metadata": {},
   "source": [
    "## 9. Next Steps for Thesis Research\n",
    "\n",
    "1. **Data Subset Selection Strategies**:\n",
    "   - Random sampling (as baseline)\n",
    "   - Figure out a way to get informed subsest of the data\n",
    "   - Compare subset selection effectiveness between Digits MNIST and Fashion MNIST\n",
    "\n",
    "2. **Evaluation Metrics**:\n",
    "   - Frechet Inception Distance (FID)\n",
    "   - Inception Score (IS)\n",
    "   - Precision and Recall metrics\n",
    "   - Training stability measures\n",
    "\n",
    "3. **Experiments to Run**:\n",
    "   - Train with different subset sizes (10%, 20%, 30%, etc.)\n",
    "   - Compare different subset selection methods\n",
    "   - Analyze what makes certain samples more \"informative\" for GANs\n",
    "   - Test if informative samples transfer across different GAN architectures\n",
    "   - Compare the characteristics of informative samples between Digits MNIST and Fashion MNIST\n",
    "   - Investigate whether informative samples from one dataset can generalize to another similar dataset"
   ]
  }
 ],
 "metadata": {
  "kernelspec": {
   "display_name": ".venv",
   "language": "python",
   "name": "python3"
  },
  "language_info": {
   "codemirror_mode": {
    "name": "ipython",
    "version": 3
   },
   "file_extension": ".py",
   "mimetype": "text/x-python",
   "name": "python",
   "nbconvert_exporter": "python",
   "pygments_lexer": "ipython3",
   "version": "3.10.15"
  }
 },
 "nbformat": 4,
 "nbformat_minor": 4
}
