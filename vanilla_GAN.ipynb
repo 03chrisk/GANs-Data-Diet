{
 "cells": [
  {
   "cell_type": "markdown",
   "metadata": {},
   "source": [
    "# MNIST GAN Implementation\n",
    "\n",
    "This notebook implements a Generative Adversarial Network (GAN) trained on the MNIST dataset using PyTorch. This serves as the foundation for investigating whether informative data samples exist for GAN training, similar to those found in supervised learning.\n",
    "\n",
    "## Thesis Context\n",
    "Recent research has shown that state-of-the-art machine learning models can be trained effectively using only specific subsets of training data. These \"informative samples\" enhance generalization in neural networks. While this phenomenon has been observed in supervised learning, this project aims to investigate whether similar informative samples exist when training generative models like GANs.\n",
    "\n",
    "## Notebook Overview\n",
    "1. **Setup and Imports**: Libraries and device configuration\n",
    "2. **Hyperparameters**: Configuration for the GAN training\n",
    "3. **Model Architecture**: Implementation of Generator and Discriminator networks\n",
    "4. **Data Loading**: MNIST dataset preparation\n",
    "5. **Visualization Functions**: Utilities for tracking GAN performance\n",
    "6. **Training Loop**: Implementation of the GAN training process\n",
    "7. **Execution and Results**: Running the training and analyzing outputs"
   ]
  },
  {
   "cell_type": "markdown",
   "metadata": {},
   "source": [
    "## 1. Setup and Imports\n",
    "\n",
    "First, we'll import the necessary libraries and set up the computational device (CPU or GPU)."
   ]
  },
  {
   "cell_type": "code",
   "execution_count": 17,
   "metadata": {},
   "outputs": [
    {
     "name": "stdout",
     "output_type": "stream",
     "text": [
      "Using device: cpu\n"
     ]
    }
   ],
   "source": [
    "import torch\n",
    "import torch.nn as nn\n",
    "import torch.optim as optim\n",
    "import torchvision\n",
    "import torchvision.transforms as transforms\n",
    "from torch.utils.data import DataLoader\n",
    "import matplotlib.pyplot as plt\n",
    "import numpy as np\n",
    "from torchvision.utils import make_grid\n",
    "import os\n",
    "import time\n",
    "\n",
    "# Set random seed for reproducibility\n",
    "torch.manual_seed(42)\n",
    "np.random.seed(42)\n",
    "\n",
    "# Device configuration\n",
    "device = torch.device('cuda' if torch.cuda.is_available() else 'cpu')\n",
    "print(f\"Using device: {device}\")"
   ]
  },
  {
   "cell_type": "markdown",
   "metadata": {},
   "source": [
    "## 2. Hyperparameters\n",
    "\n",
    "Here we define all the hyperparameters that control the GAN training process. These include:\n",
    "\n",
    "- Batch size: Number of images processed in each training step\n",
    "- Latent dimension: Size of the random noise vector input to the generator\n",
    "- Hidden dimensions: Size of hidden layers in the networks\n",
    "- Learning rates and optimizer parameters\n",
    "- Training duration and image sampling frequency"
   ]
  },
  {
   "cell_type": "code",
   "execution_count": 18,
   "metadata": {},
   "outputs": [],
   "source": [
    "# Hyperparameters\n",
    "batch_size = 128\n",
    "latent_dim = 128     # Size of generator input noise vector\n",
    "hidden_dim = 256     # Size of hidden layers\n",
    "image_size = 28 * 28 # MNIST image dimensions flattened\n",
    "lr = 0.0002          # Learning rate\n",
    "beta1 = 0.5          # Adam optimizer beta1\n",
    "beta2 = 0.999        # Adam optimizer beta2\n",
    "num_epochs = 100     # Number of training epochs\n",
    "sample_interval = 10 # Save images every 10 epochs"
   ]
  },
  {
   "cell_type": "markdown",
   "metadata": {},
   "source": [
    "## 3. Model Architecture\n",
    "\n",
    "### Generator Network\n",
    "\n",
    "The Generator transforms random noise vectors into synthetic images. Its architecture consists of:\n",
    "- Input: Random noise vector (latent_dim)\n",
    "- Multiple fully connected layers with LeakyReLU activations\n",
    "- Output: Image with values in range [-1, 1] through Tanh activation\n",
    "\n",
    "This implementation uses a simple MLP (Multi-Layer Perceptron) architecture rather than convolutional layers for simplicity."
   ]
  },
  {
   "cell_type": "code",
   "execution_count": 19,
   "metadata": {},
   "outputs": [],
   "source": [
    "class Generator(nn.Module):\n",
    "    def __init__(self, latent_dim, hidden_dim, output_dim):\n",
    "        super(Generator, self).__init__()\n",
    "        self.model = nn.Sequential(\n",
    "            nn.Linear(latent_dim, hidden_dim),\n",
    "            nn.LeakyReLU(0.2, inplace=True),\n",
    "            nn.Linear(hidden_dim, hidden_dim * 2),\n",
    "            nn.LeakyReLU(0.2, inplace=True),\n",
    "            nn.Linear(hidden_dim * 2, hidden_dim * 4),\n",
    "            nn.LeakyReLU(0.2, inplace=True),\n",
    "            nn.Linear(hidden_dim * 4, output_dim),\n",
    "            nn.Tanh()  # Output values between -1 and 1\n",
    "        )\n",
    "\n",
    "    def forward(self, z):\n",
    "        img = self.model(z)\n",
    "        img = img.view(img.size(0), 1, 28, 28)  # Reshape to image dimensions\n",
    "        return img"
   ]
  },
  {
   "cell_type": "markdown",
   "metadata": {},
   "source": [
    "### Discriminator Network\n",
    "\n",
    "The Discriminator evaluates whether an image is real (from the dataset) or fake (generated). Its architecture consists of:\n",
    "- Input: Flattened image (28×28 = 784 dimensions)\n",
    "- Multiple fully connected layers with LeakyReLU activations and dropout for regularization\n",
    "- Output: Single value between 0-1 through Sigmoid activation (probability of image being real)"
   ]
  },
  {
   "cell_type": "code",
   "execution_count": 20,
   "metadata": {},
   "outputs": [],
   "source": [
    "class Discriminator(nn.Module):\n",
    "    def __init__(self, input_dim, hidden_dim):\n",
    "        super(Discriminator, self).__init__()\n",
    "        self.model = nn.Sequential(\n",
    "            nn.Linear(input_dim, hidden_dim * 4),\n",
    "            nn.LeakyReLU(0.2, inplace=True),\n",
    "            nn.Dropout(0.3),  # Dropout helps prevent discriminator from being too strong\n",
    "            nn.Linear(hidden_dim * 4, hidden_dim * 2),\n",
    "            nn.LeakyReLU(0.2, inplace=True),\n",
    "            nn.Dropout(0.3),\n",
    "            nn.Linear(hidden_dim * 2, hidden_dim),\n",
    "            nn.LeakyReLU(0.2, inplace=True),\n",
    "            nn.Dropout(0.3),\n",
    "            nn.Linear(hidden_dim, 1),\n",
    "            nn.Sigmoid()  # Output between 0-1 (probability of being real)\n",
    "        )\n",
    "\n",
    "    def forward(self, img):\n",
    "        img_flat = img.view(img.size(0), -1)  # Flatten the image\n",
    "        validity = self.model(img_flat)\n",
    "        return validity"
   ]
  },
  {
   "cell_type": "markdown",
   "metadata": {},
   "source": [
    "### Initialize Models and Optimizers\n",
    "\n",
    "Here we:\n",
    "1. Initialize both networks\n",
    "2. Define the loss function (Binary Cross Entropy)\n",
    "3. Set up optimizers for both networks"
   ]
  },
  {
   "cell_type": "code",
   "execution_count": 21,
   "metadata": {},
   "outputs": [],
   "source": [
    "# Initialize models\n",
    "generator = Generator(latent_dim, hidden_dim, image_size).to(device)\n",
    "discriminator = Discriminator(image_size, hidden_dim).to(device)\n",
    "\n",
    "# Loss function\n",
    "adversarial_loss = nn.BCELoss()\n",
    "\n",
    "# Optimizers\n",
    "optimizer_G = optim.Adam(generator.parameters(), lr=lr, betas=(beta1, beta2))\n",
    "optimizer_D = optim.Adam(discriminator.parameters(), lr=lr, betas=(beta1, beta2))"
   ]
  },
  {
   "cell_type": "markdown",
   "metadata": {},
   "source": [
    "## 4. Data Loading\n",
    "\n",
    "Here we set up the MNIST dataset with appropriate transformations:\n",
    "- ToTensor: Converts PIL images to PyTorch tensors\n",
    "- Normalize: Scales pixel values from [0,1] to [-1,1] to match the Generator's Tanh output"
   ]
  },
  {
   "cell_type": "code",
   "execution_count": 22,
   "metadata": {},
   "outputs": [
    {
     "name": "stdout",
     "output_type": "stream",
     "text": [
      "Dataset size: 60000 images\n",
      "Number of batches: 468\n"
     ]
    }
   ],
   "source": [
    "# Data Loading\n",
    "transform = transforms.Compose([\n",
    "    transforms.ToTensor(),\n",
    "    transforms.Normalize([0.5], [0.5])  # Normalize to [-1, 1]\n",
    "])\n",
    "\n",
    "train_dataset = torchvision.datasets.MNIST(\n",
    "    root='./data',\n",
    "    train=True,\n",
    "    download=True,\n",
    "    transform=transform\n",
    ")\n",
    "\n",
    "train_loader = DataLoader(\n",
    "    train_dataset,\n",
    "    batch_size=batch_size,\n",
    "    shuffle=True,\n",
    "    drop_last=True  # Discard incomplete batches\n",
    ")\n",
    "\n",
    "# Display dataset information\n",
    "print(f\"Dataset size: {len(train_dataset)} images\")\n",
    "print(f\"Number of batches: {len(train_loader)}\")"
   ]
  },
  {
   "cell_type": "markdown",
   "metadata": {},
   "source": [
    "## 5. Visualization Functions\n",
    "\n",
    "These utility functions help monitor the GAN's progress:\n",
    "\n",
    "1. `save_generated_images`: Creates and saves a grid of generated images\n",
    "2. `plot_losses`: Visualizes generator and discriminator losses over time"
   ]
  },
  {
   "cell_type": "code",
   "execution_count": 23,
   "metadata": {},
   "outputs": [],
   "source": [
    "# Function to save generated images\n",
    "def save_generated_images(epoch, generator, latent_dim, device, fixed_noise=None, save_path=\"generated_images\"):\n",
    "    os.makedirs(save_path, exist_ok=True)\n",
    "    \n",
    "    # Create a batch of latent vectors or use fixed noise for comparison\n",
    "    if fixed_noise is None:\n",
    "        z = torch.randn(25, latent_dim).to(device)\n",
    "    else:\n",
    "        z = fixed_noise\n",
    "    \n",
    "    # Generate images\n",
    "    with torch.no_grad():\n",
    "        gen_imgs = generator(z).detach().cpu()\n",
    "    \n",
    "    # Rescale images from [-1, 1] to [0, 1]\n",
    "    gen_imgs = 0.5 * gen_imgs + 0.5\n",
    "    \n",
    "    # Create a grid and save\n",
    "    grid = make_grid(gen_imgs, nrow=5, normalize=True)\n",
    "    plt.figure(figsize=(8, 8))\n",
    "    plt.imshow(grid.permute(1, 2, 0), cmap='gray')\n",
    "    plt.axis('off')\n",
    "    plt.title(f\"Generated Images - Epoch {epoch}\")\n",
    "    plt.savefig(f\"{save_path}/gen_epoch_{epoch}.png\")\n",
    "    \n",
    "    # Also display the grid in the notebook\n",
    "    plt.show()\n",
    "    \n",
    "    return grid"
   ]
  },
  {
   "cell_type": "code",
   "execution_count": null,
   "metadata": {},
   "outputs": [],
   "source": [
    "# Function to visualize losses\n",
    "def plot_losses(g_losses, d_losses, save_path=\"loss_plots\"):\n",
    "    os.makedirs(save_path, exist_ok=True)\n",
    "    \n",
    "    plt.figure(figsize=(10, 5))\n",
    "    plt.plot(g_losses, label='Generator Loss')\n",
    "    plt.plot(d_losses, label='Discriminator Loss')\n",
    "    plt.xlabel('Iterations')\n",
    "    plt.ylabel('Loss')\n",
    "    plt.legend()\n",
    "    plt.grid(True)\n",
    "    plt.title('GAN Training Losses')\n",
    "    plt.savefig(f\"{save_path}/losses.png\")\n",
    "    plt.show()"
   ]
  },
  {
   "cell_type": "markdown",
   "metadata": {},
   "source": [
    "## 6. Training Loop\n",
    "\n",
    "The GAN training function implements the adversarial training process with these key steps:\n",
    "\n",
    "1. **Initialization**:\n",
    "   - Create fixed noise vector for consistent image generation across epochs\n",
    "   - Initialize lists to track losses\n",
    "\n",
    "2. **For each epoch and batch**:\n",
    "   - **Train Discriminator**:\n",
    "     - Forward pass with real images → calculate loss on real images\n",
    "     - Generate fake images → calculate loss on fake images\n",
    "     - Update discriminator weights\n",
    "   - **Train Generator**:\n",
    "     - Generate fake images\n",
    "     - Calculate loss based on discriminator's prediction\n",
    "     - Update generator weights\n",
    "\n",
    "3. **Monitoring**:\n",
    "   - Save losses for plotting\n",
    "   - Generate and save images at regular intervals\n",
    "   - Track and display progress information"
   ]
  },
  {
   "cell_type": "code",
   "execution_count": null,
   "metadata": {},
   "outputs": [],
   "source": [
    "# Training Loop\n",
    "def train_gan():\n",
    "    # Generate fixed noise for consistent image generation\n",
    "    fixed_noise = torch.randn(64, latent_dim).to(device)\n",
    "    \n",
    "    # Create lists to store losses\n",
    "    g_losses = []\n",
    "    d_losses = []\n",
    "    start_time = time.time()\n",
    "    \n",
    "    print(\"Starting Training...\")\n",
    "    for epoch in range(num_epochs):\n",
    "        for i, (real_imgs, _) in enumerate(train_loader):\n",
    "            # Configure input\n",
    "            real_imgs = real_imgs.to(device)\n",
    "            batch_size = real_imgs.size(0)\n",
    "            \n",
    "            # Create labels with a small amount of label smoothing\n",
    "            valid = torch.ones(batch_size, 1).to(device) * 0.9  # Smooth the real labels\n",
    "            fake = torch.zeros(batch_size, 1).to(device) + 0.1  # Smooth the fake labels\n",
    "            \n",
    "            # ---------------------\n",
    "            # Train Discriminator\n",
    "            # ---------------------\n",
    "            optimizer_D.zero_grad()\n",
    "            \n",
    "            # Loss on real images\n",
    "            real_pred = discriminator(real_imgs)\n",
    "            d_real_loss = adversarial_loss(real_pred, valid)\n",
    "            \n",
    "            # Sample noise and generate fake images\n",
    "            z = torch.randn(batch_size, latent_dim).to(device)\n",
    "            fake_imgs = generator(z)\n",
    "            \n",
    "            # Loss on fake images\n",
    "            fake_pred = discriminator(fake_imgs.detach())\n",
    "            d_fake_loss = adversarial_loss(fake_pred, fake)\n",
    "            \n",
    "            # Total discriminator loss\n",
    "            d_loss = (d_real_loss + d_fake_loss) / 2\n",
    "            d_loss.backward()\n",
    "            optimizer_D.step()\n",
    "            \n",
    "            # ---------------------\n",
    "            # Train Generator\n",
    "            # ---------------------\n",
    "            optimizer_G.zero_grad()\n",
    "            \n",
    "            # Generate fake images\n",
    "            z = torch.randn(batch_size, latent_dim).to(device)\n",
    "            fake_imgs = generator(z)\n",
    "            \n",
    "            # Try to fool the discriminator\n",
    "            validity = discriminator(fake_imgs)\n",
    "            g_loss = adversarial_loss(validity, valid)\n",
    "            \n",
    "            g_loss.backward()\n",
    "            optimizer_G.step()\n",
    "            \n",
    "            # Save losses for plotting\n",
    "            g_losses.append(g_loss.item())\n",
    "            d_losses.append(d_loss.item())\n",
    "            \n",
    "            # Print progress\n",
    "            if i % 100 == 0:\n",
    "                print(f\"[Epoch {epoch}/{num_epochs}] [Batch {i}/{len(train_loader)}] \"\n",
    "                      f\"[D loss: {d_loss.item():.4f}] [G loss: {g_loss.item():.4f}] \"\n",
    "                      f\"[Time: {time.time() - start_time:.2f}s]\")\n",
    "        \n",
    "        # Save generated images at specified intervals\n",
    "        if epoch % sample_interval == 0 or epoch == num_epochs - 1:\n",
    "            _ = save_generated_images(epoch, generator, latent_dim, device, fixed_noise)\n",
    "            \n",
    "        # Plot losses at each epoch\n",
    "        if epoch % 10 == 0:\n",
    "            plot_losses(g_losses, d_losses)\n",
    "    \n",
    "    # Save final loss plot\n",
    "    plot_losses(g_losses, d_losses)\n",
    "    \n",
    "    print(\"Training finished!\")\n",
    "    print(f\"Total training time: {(time.time() - start_time)/60:.2f} minutes\")\n",
    "    \n",
    "    # Save the trained models\n",
    "    os.makedirs(\"models\", exist_ok=True)\n",
    "    torch.save(generator.state_dict(), 'models/generator.pth')\n",
    "    torch.save(discriminator.state_dict(), 'models/discriminator.pth')\n",
    "    print(\"Models saved!\")\n",
    "    \n",
    "    return g_losses, d_losses"
   ]
  },
  {
   "cell_type": "markdown",
   "metadata": {},
   "source": [
    "## 7. Execution and Results\n",
    "\n",
    "Now we'll run the training function and analyze the results."
   ]
  },
  {
   "cell_type": "code",
   "execution_count": 29,
   "metadata": {},
   "outputs": [
    {
     "name": "stdout",
     "output_type": "stream",
     "text": [
      "Starting Training...\n",
      "[Epoch 0/100] [Batch 0/468] [D loss: 0.3263] [G loss: 2.1074] [Time: 0.07s]\n",
      "[Epoch 0/100] [Batch 100/468] [D loss: 0.3261] [G loss: 2.0679] [Time: 5.96s]\n",
      "[Epoch 0/100] [Batch 200/468] [D loss: 0.3261] [G loss: 2.0738] [Time: 11.75s]\n",
      "[Epoch 0/100] [Batch 300/468] [D loss: 0.3261] [G loss: 2.0798] [Time: 17.34s]\n",
      "[Epoch 0/100] [Batch 400/468] [D loss: 0.3262] [G loss: 2.1276] [Time: 22.88s]\n"
     ]
    },
    {
     "data": {
      "image/png": "[encoded data removed]",
      "text/plain": [
       "<Figure size 800x800 with 1 Axes>"
      ]
     },
     "metadata": {},
     "output_type": "display_data"
    },
    {
     "data": {
      "image/png": "[encoded data removed]",
      "text/plain": [
       "<Figure size 1000x500 with 1 Axes>"
      ]
     },
     "metadata": {},
     "output_type": "display_data"
    },
    {
     "name": "stdout",
     "output_type": "stream",
     "text": [
      "[Epoch 1/100] [Batch 0/468] [D loss: 0.3259] [G loss: 2.0966] [Time: 26.99s]\n",
      "[Epoch 1/100] [Batch 100/468] [D loss: 0.3261] [G loss: 2.0992] [Time: 32.91s]\n",
      "[Epoch 1/100] [Batch 200/468] [D loss: 0.3262] [G loss: 2.0952] [Time: 38.73s]\n",
      "[Epoch 1/100] [Batch 300/468] [D loss: 0.3263] [G loss: 2.0650] [Time: 44.52s]\n",
      "[Epoch 1/100] [Batch 400/468] [D loss: 0.3261] [G loss: 2.1378] [Time: 50.17s]\n",
      "[Epoch 2/100] [Batch 0/468] [D loss: 0.3261] [G loss: 2.0971] [Time: 54.52s]\n",
      "[Epoch 2/100] [Batch 100/468] [D loss: 0.3260] [G loss: 2.0726] [Time: 60.26s]\n",
      "[Epoch 2/100] [Batch 200/468] [D loss: 0.3261] [G loss: 2.0373] [Time: 65.70s]\n",
      "[Epoch 2/100] [Batch 300/468] [D loss: 0.3260] [G loss: 2.1340] [Time: 71.31s]\n",
      "[Epoch 2/100] [Batch 400/468] [D loss: 0.3260] [G loss: 2.0727] [Time: 76.82s]\n",
      "[Epoch 3/100] [Batch 0/468] [D loss: 0.3259] [G loss: 2.1048] [Time: 80.56s]\n",
      "[Epoch 3/100] [Batch 100/468] [D loss: 0.3261] [G loss: 2.1030] [Time: 86.19s]\n",
      "[Epoch 3/100] [Batch 200/468] [D loss: 0.3260] [G loss: 2.1018] [Time: 91.69s]\n",
      "[Epoch 3/100] [Batch 300/468] [D loss: 0.3258] [G loss: 2.0430] [Time: 97.58s]\n",
      "[Epoch 3/100] [Batch 400/468] [D loss: 0.3260] [G loss: 2.0388] [Time: 103.63s]\n",
      "[Epoch 4/100] [Batch 0/468] [D loss: 0.3266] [G loss: 2.1923] [Time: 107.63s]\n",
      "[Epoch 4/100] [Batch 100/468] [D loss: 0.3259] [G loss: 2.1226] [Time: 113.41s]\n",
      "[Epoch 4/100] [Batch 200/468] [D loss: 0.3260] [G loss: 2.1620] [Time: 119.00s]\n",
      "[Epoch 4/100] [Batch 300/468] [D loss: 0.3259] [G loss: 2.0545] [Time: 124.74s]\n",
      "[Epoch 4/100] [Batch 400/468] [D loss: 0.3262] [G loss: 2.1276] [Time: 130.19s]\n",
      "[Epoch 5/100] [Batch 0/468] [D loss: 0.3264] [G loss: 2.1890] [Time: 133.99s]\n",
      "[Epoch 5/100] [Batch 100/468] [D loss: 0.3262] [G loss: 2.1342] [Time: 139.45s]\n",
      "[Epoch 5/100] [Batch 200/468] [D loss: 0.3262] [G loss: 2.1159] [Time: 144.98s]\n",
      "[Epoch 5/100] [Batch 300/468] [D loss: 0.3262] [G loss: 2.1186] [Time: 150.57s]\n",
      "[Epoch 5/100] [Batch 400/468] [D loss: 0.3259] [G loss: 2.0541] [Time: 156.07s]\n",
      "[Epoch 6/100] [Batch 0/468] [D loss: 0.3260] [G loss: 2.0941] [Time: 159.98s]\n",
      "[Epoch 6/100] [Batch 100/468] [D loss: 0.3262] [G loss: 2.0603] [Time: 165.81s]\n",
      "[Epoch 6/100] [Batch 200/468] [D loss: 0.3261] [G loss: 2.0873] [Time: 171.62s]\n",
      "[Epoch 6/100] [Batch 300/468] [D loss: 0.3261] [G loss: 2.0314] [Time: 177.83s]\n",
      "[Epoch 6/100] [Batch 400/468] [D loss: 0.3266] [G loss: 2.2561] [Time: 183.65s]\n",
      "[Epoch 7/100] [Batch 0/468] [D loss: 0.3261] [G loss: 2.1001] [Time: 187.45s]\n",
      "[Epoch 7/100] [Batch 100/468] [D loss: 0.3260] [G loss: 2.1384] [Time: 192.93s]\n",
      "[Epoch 7/100] [Batch 200/468] [D loss: 0.3261] [G loss: 2.1469] [Time: 198.39s]\n",
      "[Epoch 7/100] [Batch 300/468] [D loss: 0.3260] [G loss: 2.1557] [Time: 203.93s]\n",
      "[Epoch 7/100] [Batch 400/468] [D loss: 0.3260] [G loss: 2.1135] [Time: 209.43s]\n",
      "[Epoch 8/100] [Batch 0/468] [D loss: 0.3261] [G loss: 2.0489] [Time: 213.18s]\n",
      "[Epoch 8/100] [Batch 100/468] [D loss: 0.3279] [G loss: 2.1073] [Time: 218.68s]\n",
      "[Epoch 8/100] [Batch 200/468] [D loss: 0.3895] [G loss: 2.4363] [Time: 224.24s]\n",
      "[Epoch 8/100] [Batch 300/468] [D loss: 0.3336] [G loss: 2.2047] [Time: 230.36s]\n",
      "[Epoch 8/100] [Batch 400/468] [D loss: 0.4325] [G loss: 2.9489] [Time: 236.10s]\n",
      "[Epoch 9/100] [Batch 0/468] [D loss: 0.7034] [G loss: 3.8237] [Time: 240.00s]\n",
      "[Epoch 9/100] [Batch 100/468] [D loss: 0.3498] [G loss: 1.9963] [Time: 245.68s]\n",
      "[Epoch 9/100] [Batch 200/468] [D loss: 0.3378] [G loss: 1.9776] [Time: 251.33s]\n",
      "[Epoch 9/100] [Batch 300/468] [D loss: 0.3311] [G loss: 2.0968] [Time: 257.10s]\n",
      "[Epoch 9/100] [Batch 400/468] [D loss: 0.3305] [G loss: 2.0911] [Time: 262.90s]\n",
      "[Epoch 10/100] [Batch 0/468] [D loss: 0.3280] [G loss: 2.0706] [Time: 266.73s]\n",
      "[Epoch 10/100] [Batch 100/468] [D loss: 0.3273] [G loss: 2.1350] [Time: 273.06s]\n",
      "[Epoch 10/100] [Batch 200/468] [D loss: 0.3276] [G loss: 2.1116] [Time: 278.70s]\n",
      "[Epoch 10/100] [Batch 300/468] [D loss: 0.3272] [G loss: 2.0843] [Time: 284.38s]\n",
      "[Epoch 10/100] [Batch 400/468] [D loss: 0.3270] [G loss: 2.1107] [Time: 290.40s]\n"
     ]
    },
    {
     "data": {
      "image/png": "[encoded data removed]",
      "text/plain": [
       "<Figure size 800x800 with 1 Axes>"
      ]
     },
     "metadata": {},
     "output_type": "display_data"
    },
    {
     "data": {
      "image/png": "[encoded data removed]",
      "text/plain": [
       "<Figure size 1000x500 with 1 Axes>"
      ]
     },
     "metadata": {},
     "output_type": "display_data"
    },
    {
     "name": "stdout",
     "output_type": "stream",
     "text": [
      "[Epoch 11/100] [Batch 0/468] [D loss: 0.3267] [G loss: 2.0564] [Time: 294.93s]\n",
      "[Epoch 11/100] [Batch 100/468] [D loss: 0.3267] [G loss: 2.0577] [Time: 300.66s]\n"
     ]
    },
    {
     "ename": "KeyboardInterrupt",
     "evalue": "",
     "output_type": "error",
     "traceback": [
      "\u001b[1;31m---------------------------------------------------------------------------\u001b[0m",
      "\u001b[1;31mKeyboardInterrupt\u001b[0m                         Traceback (most recent call last)",
      "Cell \u001b[1;32mIn[29], line 2\u001b[0m\n\u001b[0;32m      1\u001b[0m \u001b[38;5;66;03m# Execute training\u001b[39;00m\n\u001b[1;32m----> 2\u001b[0m g_losses, d_losses \u001b[38;5;241m=\u001b[39m \u001b[43mtrain_gan\u001b[49m\u001b[43m(\u001b[49m\u001b[43m)\u001b[49m\n",
      "Cell \u001b[1;32mIn[27], line 45\u001b[0m, in \u001b[0;36mtrain_gan\u001b[1;34m()\u001b[0m\n\u001b[0;32m     43\u001b[0m \u001b[38;5;66;03m# Total discriminator loss\u001b[39;00m\n\u001b[0;32m     44\u001b[0m d_loss \u001b[38;5;241m=\u001b[39m (d_real_loss \u001b[38;5;241m+\u001b[39m d_fake_loss) \u001b[38;5;241m/\u001b[39m \u001b[38;5;241m2\u001b[39m\n\u001b[1;32m---> 45\u001b[0m \u001b[43md_loss\u001b[49m\u001b[38;5;241;43m.\u001b[39;49m\u001b[43mbackward\u001b[49m\u001b[43m(\u001b[49m\u001b[43m)\u001b[49m\n\u001b[0;32m     46\u001b[0m optimizer_D\u001b[38;5;241m.\u001b[39mstep()\n\u001b[0;32m     48\u001b[0m \u001b[38;5;66;03m# ---------------------\u001b[39;00m\n\u001b[0;32m     49\u001b[0m \u001b[38;5;66;03m# Train Generator\u001b[39;00m\n\u001b[0;32m     50\u001b[0m \u001b[38;5;66;03m# ---------------------\u001b[39;00m\n",
      "File \u001b[1;32mc:\\Users\\Christian\\uni\\GANs-Data-Diet\\.venv\\lib\\site-packages\\torch\\_tensor.py:626\u001b[0m, in \u001b[0;36mTensor.backward\u001b[1;34m(self, gradient, retain_graph, create_graph, inputs)\u001b[0m\n\u001b[0;32m    616\u001b[0m \u001b[38;5;28;01mif\u001b[39;00m has_torch_function_unary(\u001b[38;5;28mself\u001b[39m):\n\u001b[0;32m    617\u001b[0m     \u001b[38;5;28;01mreturn\u001b[39;00m handle_torch_function(\n\u001b[0;32m    618\u001b[0m         Tensor\u001b[38;5;241m.\u001b[39mbackward,\n\u001b[0;32m    619\u001b[0m         (\u001b[38;5;28mself\u001b[39m,),\n\u001b[1;32m   (...)\u001b[0m\n\u001b[0;32m    624\u001b[0m         inputs\u001b[38;5;241m=\u001b[39minputs,\n\u001b[0;32m    625\u001b[0m     )\n\u001b[1;32m--> 626\u001b[0m \u001b[43mtorch\u001b[49m\u001b[38;5;241;43m.\u001b[39;49m\u001b[43mautograd\u001b[49m\u001b[38;5;241;43m.\u001b[39;49m\u001b[43mbackward\u001b[49m\u001b[43m(\u001b[49m\n\u001b[0;32m    627\u001b[0m \u001b[43m    \u001b[49m\u001b[38;5;28;43mself\u001b[39;49m\u001b[43m,\u001b[49m\u001b[43m \u001b[49m\u001b[43mgradient\u001b[49m\u001b[43m,\u001b[49m\u001b[43m \u001b[49m\u001b[43mretain_graph\u001b[49m\u001b[43m,\u001b[49m\u001b[43m \u001b[49m\u001b[43mcreate_graph\u001b[49m\u001b[43m,\u001b[49m\u001b[43m \u001b[49m\u001b[43minputs\u001b[49m\u001b[38;5;241;43m=\u001b[39;49m\u001b[43minputs\u001b[49m\n\u001b[0;32m    628\u001b[0m \u001b[43m\u001b[49m\u001b[43m)\u001b[49m\n",
      "File \u001b[1;32mc:\\Users\\Christian\\uni\\GANs-Data-Diet\\.venv\\lib\\site-packages\\torch\\autograd\\__init__.py:347\u001b[0m, in \u001b[0;36mbackward\u001b[1;34m(tensors, grad_tensors, retain_graph, create_graph, grad_variables, inputs)\u001b[0m\n\u001b[0;32m    342\u001b[0m     retain_graph \u001b[38;5;241m=\u001b[39m create_graph\n\u001b[0;32m    344\u001b[0m \u001b[38;5;66;03m# The reason we repeat the same comment below is that\u001b[39;00m\n\u001b[0;32m    345\u001b[0m \u001b[38;5;66;03m# some Python versions print out the first line of a multi-line function\u001b[39;00m\n\u001b[0;32m    346\u001b[0m \u001b[38;5;66;03m# calls in the traceback and some print out the last line\u001b[39;00m\n\u001b[1;32m--> 347\u001b[0m \u001b[43m_engine_run_backward\u001b[49m\u001b[43m(\u001b[49m\n\u001b[0;32m    348\u001b[0m \u001b[43m    \u001b[49m\u001b[43mtensors\u001b[49m\u001b[43m,\u001b[49m\n\u001b[0;32m    349\u001b[0m \u001b[43m    \u001b[49m\u001b[43mgrad_tensors_\u001b[49m\u001b[43m,\u001b[49m\n\u001b[0;32m    350\u001b[0m \u001b[43m    \u001b[49m\u001b[43mretain_graph\u001b[49m\u001b[43m,\u001b[49m\n\u001b[0;32m    351\u001b[0m \u001b[43m    \u001b[49m\u001b[43mcreate_graph\u001b[49m\u001b[43m,\u001b[49m\n\u001b[0;32m    352\u001b[0m \u001b[43m    \u001b[49m\u001b[43minputs\u001b[49m\u001b[43m,\u001b[49m\n\u001b[0;32m    353\u001b[0m \u001b[43m    \u001b[49m\u001b[43mallow_unreachable\u001b[49m\u001b[38;5;241;43m=\u001b[39;49m\u001b[38;5;28;43;01mTrue\u001b[39;49;00m\u001b[43m,\u001b[49m\n\u001b[0;32m    354\u001b[0m \u001b[43m    \u001b[49m\u001b[43maccumulate_grad\u001b[49m\u001b[38;5;241;43m=\u001b[39;49m\u001b[38;5;28;43;01mTrue\u001b[39;49;00m\u001b[43m,\u001b[49m\n\u001b[0;32m    355\u001b[0m \u001b[43m\u001b[49m\u001b[43m)\u001b[49m\n",
      "File \u001b[1;32mc:\\Users\\Christian\\uni\\GANs-Data-Diet\\.venv\\lib\\site-packages\\torch\\autograd\\graph.py:823\u001b[0m, in \u001b[0;36m_engine_run_backward\u001b[1;34m(t_outputs, *args, **kwargs)\u001b[0m\n\u001b[0;32m    821\u001b[0m     unregister_hooks \u001b[38;5;241m=\u001b[39m _register_logging_hooks_on_whole_graph(t_outputs)\n\u001b[0;32m    822\u001b[0m \u001b[38;5;28;01mtry\u001b[39;00m:\n\u001b[1;32m--> 823\u001b[0m     \u001b[38;5;28;01mreturn\u001b[39;00m Variable\u001b[38;5;241m.\u001b[39m_execution_engine\u001b[38;5;241m.\u001b[39mrun_backward(  \u001b[38;5;66;03m# Calls into the C++ engine to run the backward pass\u001b[39;00m\n\u001b[0;32m    824\u001b[0m         t_outputs, \u001b[38;5;241m*\u001b[39margs, \u001b[38;5;241m*\u001b[39m\u001b[38;5;241m*\u001b[39mkwargs\n\u001b[0;32m    825\u001b[0m     )  \u001b[38;5;66;03m# Calls into the C++ engine to run the backward pass\u001b[39;00m\n\u001b[0;32m    826\u001b[0m \u001b[38;5;28;01mfinally\u001b[39;00m:\n\u001b[0;32m    827\u001b[0m     \u001b[38;5;28;01mif\u001b[39;00m attach_logging_hooks:\n",
      "\u001b[1;31mKeyboardInterrupt\u001b[0m: "
     ]
    }
   ],
   "source": [
    "# Execute training\n",
    "g_losses, d_losses = train_gan()"
   ]
  },
  {
   "cell_type": "markdown",
   "metadata": {},
   "source": [
    "### Results Analysis\n",
    "\n",
    "Let's examine our final loss plot and generate some images with the trained model."
   ]
  },
  {
   "cell_type": "code",
   "execution_count": null,
   "metadata": {},
   "outputs": [],
   "source": [
    "# Plot final results\n",
    "plot_losses(g_losses, d_losses)"
   ]
  },
  {
   "cell_type": "code",
   "execution_count": null,
   "metadata": {},
   "outputs": [],
   "source": [
    "# Generate random samples after training\n",
    "with torch.no_grad():\n",
    "    # Generate random noise\n",
    "    z = torch.randn(16, latent_dim).to(device)\n",
    "    # Generate images\n",
    "    samples = generator(z).detach().cpu()\n",
    "    # Rescale images\n",
    "    samples = 0.5 * samples + 0.5\n",
    "    # Display images\n",
    "    grid = make_grid(samples, nrow=4, normalize=True)\n",
    "    plt.figure(figsize=(10, 10))\n",
    "    plt.imshow(grid.permute(1, 2, 0), cmap='gray')\n",
    "    plt.axis('off')\n",
    "    plt.title(\"Random Samples from Trained Generator\")\n",
    "    plt.show()"
   ]
  },
  {
   "cell_type": "markdown",
   "metadata": {},
   "source": [
    "## 8. Next Steps for Thesis Research\n",
    "\n",
    "With the baseline GAN implementation complete, here are the next steps for your thesis:\n",
    "\n",
    "1. **Data Subset Selection Strategies**:\n",
    "   - Random sampling (as baseline)\n",
    "   - Influence/uncertainty-based selection\n",
    "   - Diversity-based selection\n",
    "   - Feature space representation-based selection\n",
    "\n",
    "2. **Evaluation Metrics**:\n",
    "   - Frechet Inception Distance (FID)\n",
    "   - Inception Score (IS)\n",
    "   - Precision and Recall metrics\n",
    "   - Training stability measures\n",
    "\n",
    "3. **Experiments to Run**:\n",
    "   - Train with different subset sizes (10%, 20%, 30%, etc.)\n",
    "   - Compare different subset selection methods\n",
    "   - Analyze what makes certain samples more \"informative\" for GANs\n",
    "   - Test if informative samples transfer across different GAN architectures"
   ]
  }
 ],
 "metadata": {
  "kernelspec": {
   "display_name": ".venv",
   "language": "python",
   "name": "python3"
  },
  "language_info": {
   "codemirror_mode": {
    "name": "ipython",
    "version": 3
   },
   "file_extension": ".py",
   "mimetype": "text/x-python",
   "name": "python",
   "nbconvert_exporter": "python",
   "pygments_lexer": "ipython3",
   "version": "3.10.15"
  }
 },
 "nbformat": 4,
 "nbformat_minor": 4
}
